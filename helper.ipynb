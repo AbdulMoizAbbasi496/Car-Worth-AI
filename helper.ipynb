{
 "cells": [
  {
   "cell_type": "code",
   "execution_count": 1,
   "id": "0122a380",
   "metadata": {},
   "outputs": [],
   "source": [
    "import pandas as pd\n",
    "import numpy as np"
   ]
  },
  {
   "cell_type": "code",
   "execution_count": 4,
   "id": "b56b8dfe",
   "metadata": {},
   "outputs": [],
   "source": [
    "df = pd.read_csv(\"cars_data.csv\")"
   ]
  },
  {
   "cell_type": "code",
   "execution_count": 5,
   "id": "ad89fb2a",
   "metadata": {},
   "outputs": [
    {
     "data": {
      "text/plain": [
       "name             Maruti Swift Dzire VDI\n",
       "year                               2014\n",
       "selling_price                    450000\n",
       "km_driven                        145500\n",
       "fuel                             Diesel\n",
       "seller_type                  Individual\n",
       "transmission                     Manual\n",
       "owner                       First Owner\n",
       "mileage                       23.4 kmpl\n",
       "engine                          1248 CC\n",
       "max_power                        74 bhp\n",
       "torque                   190Nm@ 2000rpm\n",
       "seats                               5.0\n",
       "Name: 0, dtype: object"
      ]
     },
     "execution_count": 5,
     "metadata": {},
     "output_type": "execute_result"
    }
   ],
   "source": [
    "df.loc[0]"
   ]
  }
 ],
 "metadata": {
  "kernelspec": {
   "display_name": "Python 3",
   "language": "python",
   "name": "python3"
  },
  "language_info": {
   "codemirror_mode": {
    "name": "ipython",
    "version": 3
   },
   "file_extension": ".py",
   "mimetype": "text/x-python",
   "name": "python",
   "nbconvert_exporter": "python",
   "pygments_lexer": "ipython3",
   "version": "3.12.4"
  }
 },
 "nbformat": 4,
 "nbformat_minor": 5
}
